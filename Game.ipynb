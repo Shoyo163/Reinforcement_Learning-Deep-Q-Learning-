{
 "cells": [
  {
   "cell_type": "code",
   "execution_count": 1,
   "id": "fabc7f5c-2069-43ca-9aa4-87e05e67311a",
   "metadata": {},
   "outputs": [
    {
     "name": "stdout",
     "output_type": "stream",
     "text": [
      "pygame 2.5.2 (SDL 2.28.3, Python 3.11.7)\n",
      "Hello from the pygame community. https://www.pygame.org/contribute.html\n"
     ]
    }
   ],
   "source": [
    "import pygame\n",
    "import random"
   ]
  },
  {
   "cell_type": "code",
   "execution_count": 13,
   "id": "0e492b1f-0cfe-4d8f-a1df-63ef895876ea",
   "metadata": {},
   "outputs": [],
   "source": [
    "pygame.init()\n",
    "\n",
    "width, height = 500, 600\n",
    "window = pygame.display.set_mode((width,height))\n",
    "pygame.display.set_caption(\"Catch The Egg!\")\n",
    "\n",
    "#colors\n",
    "yellow = (225,225,0)\n",
    "white = (255,255,255)\n",
    "black = (0,0,0)\n",
    "green = (0,255,0)\n",
    "red = (255,0,0)\n",
    "blue = (0,0,255)\n",
    "\n",
    "#Basket\n",
    "basket_width = 30\n",
    "basket_height = 50\n",
    "basket_x = width//2-basket_width//2\n",
    "basket_y = height - basket_height - 10\n",
    "basket_speed = 10\n",
    "\n",
    "basket = pygame.Rect(basket_x,basket_y,basket_width,basket_height)\n",
    "\n",
    "#Egg\n",
    "egg_width = 23\n",
    "egg_height = 35\n",
    "egg_speed = 5\n",
    "\n",
    "def create_egg():\n",
    "    egg_x = random.randint(0,width-egg_width)\n",
    "    egg_y = 0\n",
    "    return pygame.Rect(egg_x,egg_y,egg_width,egg_height)\n",
    "\n",
    "eggs = [create_egg()]\n",
    "\n",
    "score = 0\n",
    "font = pygame.font.Font(None, 36)\n",
    "over_font = pygame.font.Font(None, 72)\n",
    "\n",
    "running = True\n",
    "clock = pygame.time.Clock()\n",
    "while running:\n",
    "    for event in pygame.event.get():\n",
    "        if event.type == pygame.QUIT:\n",
    "            running = False\n",
    "\n",
    "    keys = pygame.key.get_pressed()\n",
    "    if keys[pygame.K_LEFT] and basket.left > 0:\n",
    "        basket.x -= basket_speed\n",
    "    if keys[pygame.K_RIGHT] and basket.right < width:\n",
    "        basket.x += basket_speed\n",
    "\n",
    "    for egg in eggs:\n",
    "        egg.y+=egg_speed\n",
    "        if basket.colliderect(egg):\n",
    "            eggs[0] = create_egg()\n",
    "            score+=1\n",
    "        if egg.y > height:\n",
    "            eggs[0] = create_egg()\n",
    "            running = False\n",
    "\n",
    "    window.fill(black)\n",
    "    pygame.draw.rect(window, yellow, basket)\n",
    "    for egg in eggs:\n",
    "        pygame.draw.ellipse(window, white, egg)\n",
    "\n",
    "    score_text = font.render(f'Score: {score}', True, green)\n",
    "    window.blit(score_text, (width - 150, 10))\n",
    "\n",
    "    pygame.display.flip()\n",
    "    clock.tick(30)\n",
    "\n",
    "window.fill(black)\n",
    "game_over_text = over_font.render(f'Game Over', True, red) \n",
    "final_score_text = over_font.render(f'Final Score: {score}', True, blue)\n",
    "window.blit(game_over_text, (width//2-game_over_text.get_width()//2, height//2-game_over_text.get_height()//2-50))\n",
    "window.blit(final_score_text, (width//2-final_score_text.get_width()//2, height//2-final_score_text.get_height()//2))\n",
    "pygame.display.flip()\n",
    "pygame.time.wait(5000)\n",
    "\n",
    "pygame.quit()"
   ]
  },
  {
   "cell_type": "code",
   "execution_count": null,
   "id": "78516cd1-a84a-4b59-80c5-f9dfb31d9a35",
   "metadata": {},
   "outputs": [],
   "source": []
  }
 ],
 "metadata": {
  "kernelspec": {
   "display_name": "Python 3 (ipykernel)",
   "language": "python",
   "name": "python3"
  },
  "language_info": {
   "codemirror_mode": {
    "name": "ipython",
    "version": 3
   },
   "file_extension": ".py",
   "mimetype": "text/x-python",
   "name": "python",
   "nbconvert_exporter": "python",
   "pygments_lexer": "ipython3",
   "version": "3.11.7"
  }
 },
 "nbformat": 4,
 "nbformat_minor": 5
}
